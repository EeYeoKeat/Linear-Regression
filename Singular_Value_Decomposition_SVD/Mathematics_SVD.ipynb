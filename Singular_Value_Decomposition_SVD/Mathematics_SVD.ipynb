{
  "nbformat": 4,
  "nbformat_minor": 0,
  "metadata": {
    "colab": {
      "name": "Mathematics_SVD.ipynb",
      "provenance": [],
      "collapsed_sections": []
    },
    "kernelspec": {
      "name": "python3",
      "display_name": "Python 3"
    },
    "accelerator": "GPU"
  },
  "cells": [
    {
      "cell_type": "markdown",
      "metadata": {
        "id": "FvRLgelBFGB3"
      },
      "source": [
        "#**Mathematics Calculation of Singular Value Decomposition (SVD)**\n",
        "\n",
        "This work is about simple example of mathematics computation of Singular Values Decomposition (SVD). The sample question is obtained from <a href=\"https://www.d.umn.edu/~mhampton/m4326svd_example.pdf\">here</a>"
      ]
    },
    {
      "cell_type": "code",
      "metadata": {
        "id": "DFUk2-6F9eFX"
      },
      "source": [
        "import numpy as np\n",
        "import pandas as pd\n",
        "import math\n",
        "from sympy import symbols, Matrix"
      ],
      "execution_count": 1,
      "outputs": []
    },
    {
      "cell_type": "code",
      "metadata": {
        "id": "Drkdd0OuGjLD",
        "outputId": "c213caae-9557-42b4-e8ae-7a566cfd47e0",
        "colab": {
          "base_uri": "https://localhost:8080/"
        }
      },
      "source": [
        "A = np.array([[3,2,2],[2,3,-2]]) \n",
        "print('Array A is:')\n",
        "print(A)"
      ],
      "execution_count": 2,
      "outputs": [
        {
          "output_type": "stream",
          "text": [
            "Array A is:\n",
            "[[ 3  2  2]\n",
            " [ 2  3 -2]]\n"
          ],
          "name": "stdout"
        }
      ]
    },
    {
      "cell_type": "markdown",
      "metadata": {
        "id": "N2PtqxTfHkNX"
      },
      "source": [
        "To compute the singular values, σi, have to determine the eigenvalues of AAT."
      ]
    },
    {
      "cell_type": "code",
      "metadata": {
        "id": "49vtIDWNGt2A",
        "outputId": "606cbad1-76ec-4a06-cb9f-7a1fb2f57775",
        "colab": {
          "base_uri": "https://localhost:8080/"
        }
      },
      "source": [
        "AT = A.transpose()\n",
        "print('Transpose of A is:')\n",
        "print(AT)"
      ],
      "execution_count": 3,
      "outputs": [
        {
          "output_type": "stream",
          "text": [
            "Transpose of A is:\n",
            "[[ 3  2]\n",
            " [ 2  3]\n",
            " [ 2 -2]]\n"
          ],
          "name": "stdout"
        }
      ]
    },
    {
      "cell_type": "code",
      "metadata": {
        "id": "gawalyCyG4zD",
        "outputId": "6592e002-68db-48ae-b689-a7f3b465c686",
        "colab": {
          "base_uri": "https://localhost:8080/"
        }
      },
      "source": [
        "AAT = np.dot(A,AT)\n",
        "print('AAT is:')\n",
        "print(AAT)"
      ],
      "execution_count": 4,
      "outputs": [
        {
          "output_type": "stream",
          "text": [
            "AAT is:\n",
            "[[17  8]\n",
            " [ 8 17]]\n"
          ],
          "name": "stdout"
        }
      ]
    },
    {
      "cell_type": "markdown",
      "metadata": {
        "id": "7YXfbapfL79X"
      },
      "source": [
        "For ATA"
      ]
    },
    {
      "cell_type": "code",
      "metadata": {
        "id": "UyI5F-HlKWxC",
        "outputId": "87ad267e-a7b4-4089-e5b0-d8a51a2ea595",
        "colab": {
          "base_uri": "https://localhost:8080/"
        }
      },
      "source": [
        "ATA = np.dot(AT,A)\n",
        "print('ATA is:')\n",
        "print(ATA)"
      ],
      "execution_count": 5,
      "outputs": [
        {
          "output_type": "stream",
          "text": [
            "ATA is:\n",
            "[[13 12  2]\n",
            " [12 13 -2]\n",
            " [ 2 -2  8]]\n"
          ],
          "name": "stdout"
        }
      ]
    },
    {
      "cell_type": "markdown",
      "metadata": {
        "id": "uFxGaGKxJLk1"
      },
      "source": [
        "Then compute the characteristic polynomial for det(AAT − λI) by using **sympy** library."
      ]
    },
    {
      "cell_type": "code",
      "metadata": {
        "id": "iy5D3Ca_JFvD",
        "outputId": "996881bd-9767-4c86-b37e-6b9fff7d0bf8",
        "colab": {
          "base_uri": "https://localhost:8080/"
        }
      },
      "source": [
        "from sympy import symbols, Matrix\n",
        "\n",
        "l, at, i = symbols(['Lambda', 'AT', 'I']) # Turn characters into symbolic variables\n",
        "m = Matrix([[17-l, 8], [8, 17-l]]) # Define the matrix\n",
        "print(m.det()) # Print its determinant"
      ],
      "execution_count": 20,
      "outputs": [
        {
          "output_type": "stream",
          "text": [
            "(-Lambda + 17)**2 - 64\n"
          ],
          "name": "stdout"
        }
      ]
    },
    {
      "cell_type": "markdown",
      "metadata": {
        "id": "I9e2C1gGxb8e"
      },
      "source": [
        "Obtained from above expression, we can write it as\n",
        "\n",
        "`-Lambda**2 -34 Lambda + 225`\n",
        "\n",
        "Determine the roots which is known as eigenvectors."
      ]
    },
    {
      "cell_type": "code",
      "metadata": {
        "id": "mIFfMeMamy1f",
        "outputId": "2da1201a-b1f3-4b32-f4c8-74a5c8686570",
        "colab": {
          "base_uri": "https://localhost:8080/"
        }
      },
      "source": [
        "coeff = [1,-34, 225]\n",
        "r = np.roots(coeff)\n",
        "print('The eigenvalues are:')\n",
        "print(r)"
      ],
      "execution_count": 23,
      "outputs": [
        {
          "output_type": "stream",
          "text": [
            "The eigenvalues are:\n",
            "[25.  9.]\n"
          ],
          "name": "stdout"
        }
      ]
    },
    {
      "cell_type": "code",
      "metadata": {
        "id": "wtKe2QyWyNfj"
      },
      "source": [
        ""
      ],
      "execution_count": null,
      "outputs": []
    }
  ]
}