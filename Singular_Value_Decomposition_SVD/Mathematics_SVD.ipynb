{
  "nbformat": 4,
  "nbformat_minor": 0,
  "metadata": {
    "colab": {
      "name": "Mathematics_SVD.ipynb",
      "provenance": [],
      "collapsed_sections": []
    },
    "kernelspec": {
      "name": "python3",
      "display_name": "Python 3"
    },
    "accelerator": "GPU"
  },
  "cells": [
    {
      "cell_type": "markdown",
      "metadata": {
        "id": "FvRLgelBFGB3"
      },
      "source": [
        "#**Mathematics Calculation of Singular Value Decomposition (SVD)**\n",
        "\n",
        "This work is about simple example of mathematics computation of Singular Values Decomposition (SVD). The sample question is obtained from <a href=\"https://www.d.umn.edu/~mhampton/m4326svd_example.pdf\">here</a>"
      ]
    },
    {
      "cell_type": "code",
      "metadata": {
        "id": "DFUk2-6F9eFX"
      },
      "source": [
        "import numpy as np\n",
        "import pandas as pd\n",
        "import math\n",
        "from sympy import symbols, Matrix"
      ],
      "execution_count": 1,
      "outputs": []
    },
    {
      "cell_type": "code",
      "metadata": {
        "id": "Drkdd0OuGjLD",
        "outputId": "c59a72f8-7afd-4bac-9724-714a32e77c22",
        "colab": {
          "base_uri": "https://localhost:8080/"
        }
      },
      "source": [
        "A = np.array([[3,2,2],[2,3,-2]]) \n",
        "print('Array A is:')\n",
        "print(A)"
      ],
      "execution_count": 2,
      "outputs": [
        {
          "output_type": "stream",
          "text": [
            "Array A is:\n",
            "[[ 3  2  2]\n",
            " [ 2  3 -2]]\n"
          ],
          "name": "stdout"
        }
      ]
    },
    {
      "cell_type": "markdown",
      "metadata": {
        "id": "N2PtqxTfHkNX"
      },
      "source": [
        "To compute the singular values, σi, have to determine the eigenvalues of AAT."
      ]
    },
    {
      "cell_type": "code",
      "metadata": {
        "id": "49vtIDWNGt2A",
        "outputId": "0193d28f-b287-47ae-8c46-0036dc268730",
        "colab": {
          "base_uri": "https://localhost:8080/"
        }
      },
      "source": [
        "AT = A.transpose()\n",
        "print('Transpose of A is:')\n",
        "print(AT)"
      ],
      "execution_count": 3,
      "outputs": [
        {
          "output_type": "stream",
          "text": [
            "Transpose of A is:\n",
            "[[ 3  2]\n",
            " [ 2  3]\n",
            " [ 2 -2]]\n"
          ],
          "name": "stdout"
        }
      ]
    },
    {
      "cell_type": "code",
      "metadata": {
        "id": "gawalyCyG4zD",
        "outputId": "c37ac641-6c5b-48b4-d3cc-ae0132fc8476",
        "colab": {
          "base_uri": "https://localhost:8080/"
        }
      },
      "source": [
        "AAT = np.dot(A,AT)\n",
        "print('AAT is:')\n",
        "print(AAT)"
      ],
      "execution_count": 4,
      "outputs": [
        {
          "output_type": "stream",
          "text": [
            "AAT is:\n",
            "[[17  8]\n",
            " [ 8 17]]\n"
          ],
          "name": "stdout"
        }
      ]
    },
    {
      "cell_type": "markdown",
      "metadata": {
        "id": "7YXfbapfL79X"
      },
      "source": [
        "For ATA"
      ]
    },
    {
      "cell_type": "code",
      "metadata": {
        "id": "UyI5F-HlKWxC",
        "outputId": "f3081e47-6df3-46a2-de46-237f61d71b59",
        "colab": {
          "base_uri": "https://localhost:8080/"
        }
      },
      "source": [
        "ATA = np.dot(AT,A)\n",
        "print('ATA is:')\n",
        "print(ATA)"
      ],
      "execution_count": 5,
      "outputs": [
        {
          "output_type": "stream",
          "text": [
            "ATA is:\n",
            "[[13 12  2]\n",
            " [12 13 -2]\n",
            " [ 2 -2  8]]\n"
          ],
          "name": "stdout"
        }
      ]
    },
    {
      "cell_type": "markdown",
      "metadata": {
        "id": "uFxGaGKxJLk1"
      },
      "source": [
        "Then compute the characteristic polynomial for det(AAT − λI) by using **sympy** library."
      ]
    },
    {
      "cell_type": "code",
      "metadata": {
        "id": "iy5D3Ca_JFvD",
        "outputId": "fdfb7f12-2746-45c8-c347-2753ed30ac8b",
        "colab": {
          "base_uri": "https://localhost:8080/"
        }
      },
      "source": [
        "from sympy import symbols, Matrix\n",
        "\n",
        "l, at, i = symbols(['Lambda', 'AT', 'I']) # Turn characters into symbolic variables\n",
        "m = Matrix([[17-l, 8], [8, 17-l]]) # Define the matrix\n",
        "print(m.det()) # Print its determinant"
      ],
      "execution_count": 6,
      "outputs": [
        {
          "output_type": "stream",
          "text": [
            "(-Lambda + 17)**2 - 64\n"
          ],
          "name": "stdout"
        }
      ]
    },
    {
      "cell_type": "markdown",
      "metadata": {
        "id": "I9e2C1gGxb8e"
      },
      "source": [
        "Obtained from above expression, we can write it as\n",
        "\n",
        "`-Lambda**2 -34 Lambda + 225`\n",
        "\n",
        "Determine the roots which is known as eigenvalues. The singular values are the square root of positive eigenvalues."
      ]
    },
    {
      "cell_type": "code",
      "metadata": {
        "id": "mIFfMeMamy1f",
        "outputId": "e58c56ab-a6f7-4ec3-f3eb-e530d99f83b5",
        "colab": {
          "base_uri": "https://localhost:8080/"
        }
      },
      "source": [
        "coeff = [1,-34, 225]\n",
        "r = np.roots(coeff)\n",
        "print('The eigenvalues for AAT are:')\n",
        "print(r)"
      ],
      "execution_count": 7,
      "outputs": [
        {
          "output_type": "stream",
          "text": [
            "The eigenvalues for AAT are:\n",
            "[25.  9.]\n"
          ],
          "name": "stdout"
        }
      ]
    },
    {
      "cell_type": "code",
      "metadata": {
        "id": "_hDHaf70zFKd",
        "outputId": "5b1f3394-c24a-4286-f48d-8f4fd4756f76",
        "colab": {
          "base_uri": "https://localhost:8080/"
        }
      },
      "source": [
        "sv = np.sqrt(r)\n",
        "print('The singular values are:')\n",
        "print(sv)"
      ],
      "execution_count": 8,
      "outputs": [
        {
          "output_type": "stream",
          "text": [
            "The singular values are:\n",
            "[5. 3.]\n"
          ],
          "name": "stdout"
        }
      ]
    },
    {
      "cell_type": "markdown",
      "metadata": {
        "id": "gxTiMXxx3ezi"
      },
      "source": [
        "Let Lambda1, λ1 be 25,\n",
        "\n",
        "(AAT − λI)v = 0\n",
        "\n",
        "Then find out v"
      ]
    },
    {
      "cell_type": "code",
      "metadata": {
        "id": "My_WIBmWrTen",
        "outputId": "69e03001-ca11-496f-a97a-f2ff9b8902ac",
        "colab": {
          "base_uri": "https://localhost:8080/"
        }
      },
      "source": [
        "# Let lambda1 be 25\n",
        "\n",
        "j1 = AAT - np.array([[25,0],[0,25]])\n",
        "j1"
      ],
      "execution_count": 9,
      "outputs": [
        {
          "output_type": "execute_result",
          "data": {
            "text/plain": [
              "array([[-8,  8],\n",
              "       [ 8, -8]])"
            ]
          },
          "metadata": {
            "tags": []
          },
          "execution_count": 9
        }
      ]
    },
    {
      "cell_type": "markdown",
      "metadata": {
        "id": "PqPc5Zs_5khl"
      },
      "source": [
        "As a result, the v is [1,1]. Next, determine the magnitude of v, by square root of (1^2 + 1^2) , which is equal to 1.4142135."
      ]
    },
    {
      "cell_type": "code",
      "metadata": {
        "id": "_TApeLhu3ths",
        "outputId": "19dde6f6-0af3-4929-e810-118e63e69920",
        "colab": {
          "base_uri": "https://localhost:8080/"
        }
      },
      "source": [
        "# unit eigenvector\n",
        "v1 = np.array([1/1.4142135, 1/1.4142135])\n",
        "v1"
      ],
      "execution_count": 10,
      "outputs": [
        {
          "output_type": "execute_result",
          "data": {
            "text/plain": [
              "array([0.70710681, 0.70710681])"
            ]
          },
          "metadata": {
            "tags": []
          },
          "execution_count": 10
        }
      ]
    },
    {
      "cell_type": "code",
      "metadata": {
        "id": "HO7qVv3WAc4-",
        "outputId": "4b111310-0178-4df3-dc68-949ba9a9466a",
        "colab": {
          "base_uri": "https://localhost:8080/"
        }
      },
      "source": [
        "# Let lambda1 be 25\n",
        "\n",
        "j2 = AAT - np.array([[9,0],[0,9]])\n",
        "j2"
      ],
      "execution_count": 11,
      "outputs": [
        {
          "output_type": "execute_result",
          "data": {
            "text/plain": [
              "array([[8, 8],\n",
              "       [8, 8]])"
            ]
          },
          "metadata": {
            "tags": []
          },
          "execution_count": 11
        }
      ]
    },
    {
      "cell_type": "markdown",
      "metadata": {
        "id": "FL27scoVAlSK"
      },
      "source": [
        "As a result, the vector is [1,-1]. Next, determine the magnitude of v, by square root of (1^2 + -1^2) , which is equal to 1.4142135."
      ]
    },
    {
      "cell_type": "code",
      "metadata": {
        "id": "-ZBi9SjYAhv-",
        "outputId": "91533eb9-cf4d-4e5e-edb7-230f3f2e2eef",
        "colab": {
          "base_uri": "https://localhost:8080/"
        }
      },
      "source": [
        "# unit eigenvector\n",
        "v2 = np.array([1/1.4142135, -1/1.4142135])\n",
        "v2"
      ],
      "execution_count": 12,
      "outputs": [
        {
          "output_type": "execute_result",
          "data": {
            "text/plain": [
              "array([ 0.70710681, -0.70710681])"
            ]
          },
          "metadata": {
            "tags": []
          },
          "execution_count": 12
        }
      ]
    },
    {
      "cell_type": "markdown",
      "metadata": {
        "id": "OHuBaWTQ7Hfy"
      },
      "source": [
        "The robust library, Numpy has provide function to compute the eigenvalues and right eigenvectors of a square array easily. More details can refer to [here](https://numpy.org/doc/stable/reference/generated/numpy.linalg.eig.html)."
      ]
    },
    {
      "cell_type": "code",
      "metadata": {
        "id": "wtKe2QyWyNfj"
      },
      "source": [
        "from numpy import linalg as LA\n",
        "\n",
        "w_AAT, v_AAT = LA.eig(AAT)"
      ],
      "execution_count": 13,
      "outputs": []
    },
    {
      "cell_type": "code",
      "metadata": {
        "id": "CVHPsiSwA5ZD",
        "outputId": "ec632b30-8051-4deb-9eb2-010af1c6d91e",
        "colab": {
          "base_uri": "https://localhost:8080/"
        }
      },
      "source": [
        "w_AAT"
      ],
      "execution_count": 14,
      "outputs": [
        {
          "output_type": "execute_result",
          "data": {
            "text/plain": [
              "array([25.,  9.])"
            ]
          },
          "metadata": {
            "tags": []
          },
          "execution_count": 14
        }
      ]
    },
    {
      "cell_type": "code",
      "metadata": {
        "id": "Bd32ilNZBLJ8",
        "outputId": "2ea986ce-7eff-4c32-bb3e-3de1f2285466",
        "colab": {
          "base_uri": "https://localhost:8080/"
        }
      },
      "source": [
        "# Eigenvectors of AAT\n",
        "v_AAT"
      ],
      "execution_count": 15,
      "outputs": [
        {
          "output_type": "execute_result",
          "data": {
            "text/plain": [
              "array([[ 0.70710678, -0.70710678],\n",
              "       [ 0.70710678,  0.70710678]])"
            ]
          },
          "metadata": {
            "tags": []
          },
          "execution_count": 15
        }
      ]
    },
    {
      "cell_type": "markdown",
      "metadata": {
        "id": "FlJBPqcJCuJD"
      },
      "source": [
        "Now check the eigenvalue for ATA"
      ]
    },
    {
      "cell_type": "code",
      "metadata": {
        "id": "P8lI2axpBUtd",
        "outputId": "aa277365-6921-4305-a23e-71186ca1fea2",
        "colab": {
          "base_uri": "https://localhost:8080/"
        }
      },
      "source": [
        "m2 = Matrix([[13-l,12, 2], [12, 13-l, -2], [2,-2,8-l]]) # Define the matrix\n",
        "print(m2.det()) # Print its determinant"
      ],
      "execution_count": 16,
      "outputs": [
        {
          "output_type": "stream",
          "text": [
            "152*Lambda + (-Lambda + 8)*(-Lambda + 13)**2 - 1352\n"
          ],
          "name": "stdout"
        }
      ]
    },
    {
      "cell_type": "markdown",
      "metadata": {
        "id": "4b2u4BGFGT0i"
      },
      "source": [
        "By find out the coefficient of above polynomial equation, we can get the roots are 25 and 9. Same like method used in above to find out the eigenvectors."
      ]
    },
    {
      "cell_type": "code",
      "metadata": {
        "id": "5hMgoNnsHEkc",
        "outputId": "92affadf-94c1-4591-e57f-93d9d65edd89",
        "colab": {
          "base_uri": "https://localhost:8080/"
        }
      },
      "source": [
        "# Let lambda1 be 25\n",
        "\n",
        "k1 = ATA - np.array([[25,0, 0],[0,25,0], [0,0,25]])\n",
        "k1"
      ],
      "execution_count": 17,
      "outputs": [
        {
          "output_type": "execute_result",
          "data": {
            "text/plain": [
              "array([[-12,  12,   2],\n",
              "       [ 12, -12,  -2],\n",
              "       [  2,  -2, -17]])"
            ]
          },
          "metadata": {
            "tags": []
          },
          "execution_count": 17
        }
      ]
    },
    {
      "cell_type": "markdown",
      "metadata": {
        "id": "R3qw0w7pHQum"
      },
      "source": [
        "After row-reduction, <br>\n",
        "[ 1 \t -1 \t 0]<br>\n",
        "[ 0 \t  0 \t 1]<br>\n",
        "[ 0 \t  0 \t 0]<br>\n",
        "\n",
        "From matrix above, using Av = λv to determine the eigenvector, v\n",
        "\n",
        "As a result, the eigenvector is [1,1,0], we can determine the unit vector and normalized vector."
      ]
    },
    {
      "cell_type": "code",
      "metadata": {
        "id": "ynZyq_Mv-jJQ",
        "outputId": "de7927ff-1436-4ef7-a2b2-1dfdf8e79172",
        "colab": {
          "base_uri": "https://localhost:8080/"
        }
      },
      "source": [
        "eigen_v1 = np.array([1,1,0])\n",
        "print('Eigenvector is ', eigen_v1)\n",
        "\n",
        "# magnitude of vector\n",
        "mag_k1 = np.linalg.norm(eigen_v1)\n",
        "print('magnitude of the vector is:',mag_k1)\n",
        "norm_eigen_v1 = eigen_v1 / mag_k1\n",
        "print('normalized eigenvector is:', norm_eigen_v1)"
      ],
      "execution_count": 18,
      "outputs": [
        {
          "output_type": "stream",
          "text": [
            "Eigenvector is  [1 1 0]\n",
            "magnitude of the vector is: 1.4142135623730951\n",
            "normalized eigenvector is: [0.70710678 0.70710678 0.        ]\n"
          ],
          "name": "stdout"
        }
      ]
    },
    {
      "cell_type": "code",
      "metadata": {
        "id": "xNktqLz-MguC",
        "outputId": "94c2cc0f-ebeb-4c18-827a-68a44f86e585",
        "colab": {
          "base_uri": "https://localhost:8080/"
        }
      },
      "source": [
        "# Let lambda1 be 9\n",
        "\n",
        "k2 = ATA - np.array([[9,0, 0],[0,9,0], [0,0,9]])\n",
        "k2"
      ],
      "execution_count": 19,
      "outputs": [
        {
          "output_type": "execute_result",
          "data": {
            "text/plain": [
              "array([[ 4, 12,  2],\n",
              "       [12,  4, -2],\n",
              "       [ 2, -2, -1]])"
            ]
          },
          "metadata": {
            "tags": []
          },
          "execution_count": 19
        }
      ]
    },
    {
      "cell_type": "markdown",
      "metadata": {
        "id": "-YugapPRMz72"
      },
      "source": [
        "After row-reduction, <br>\n",
        "[ 1 \t 0 \t -1/4]<br>\n",
        "[ 0 \t  1 \t 1/4]<br>\n",
        "[ 0 \t  0 \t 0]<br>\n",
        "\n",
        "From matrix above, using Av = λv to determine the eigenvector, v\n",
        "\n",
        "As a result, the eigenvector is [1,-1,4], we can determine the unit vector and normalized vector."
      ]
    },
    {
      "cell_type": "code",
      "metadata": {
        "id": "hGvTHGlMOEEQ",
        "outputId": "149eb283-bc57-412a-8877-f415951ee1ec",
        "colab": {
          "base_uri": "https://localhost:8080/"
        }
      },
      "source": [
        "eigen_v2 = np.array([1,-1,4])\n",
        "print('Eigenvector is ', eigen_v2)\n",
        "\n",
        "# magnitude of vector\n",
        "mag_k2 = np.linalg.norm(eigen_v2)\n",
        "print('magnitude of the vector is:',mag_k2)\n",
        "norm_eigen_v2 = eigen_v2 / mag_k2\n",
        "print('normalized eigenvector is:', norm_eigen_v2)"
      ],
      "execution_count": 20,
      "outputs": [
        {
          "output_type": "stream",
          "text": [
            "Eigenvector is  [ 1 -1  4]\n",
            "magnitude of the vector is: 4.242640687119285\n",
            "normalized eigenvector is: [ 0.23570226 -0.23570226  0.94280904]\n"
          ],
          "name": "stdout"
        }
      ]
    },
    {
      "cell_type": "code",
      "metadata": {
        "id": "6MhYJd6VR1jM",
        "outputId": "4d4b2e5e-aaf9-4ed3-d1ae-f3e2f2c6c077",
        "colab": {
          "base_uri": "https://localhost:8080/"
        }
      },
      "source": [
        "ATA"
      ],
      "execution_count": 21,
      "outputs": [
        {
          "output_type": "execute_result",
          "data": {
            "text/plain": [
              "array([[13, 12,  2],\n",
              "       [12, 13, -2],\n",
              "       [ 2, -2,  8]])"
            ]
          },
          "metadata": {
            "tags": []
          },
          "execution_count": 21
        }
      ]
    },
    {
      "cell_type": "markdown",
      "metadata": {
        "id": "ZN2_MDErSDcs"
      },
      "source": [
        "After row-reduction, <br>\n",
        "[ 1 0 2] <br>\n",
        "[ 0 1 -2] <br>\n",
        "[ 0 0 0] <br>\n",
        "\n",
        "From matrix above, using Av = λv to determine the eigenvector, v\n",
        "\n",
        "As a result, the eigenvector is [2,-2,1], we can determine the unit vector and normalized vector."
      ]
    },
    {
      "cell_type": "code",
      "metadata": {
        "id": "_kZG9HhXTh_L",
        "outputId": "f18c7354-6c9a-4f40-9390-e2ea9106b762",
        "colab": {
          "base_uri": "https://localhost:8080/"
        }
      },
      "source": [
        "eigen_v3 = np.array([2,-2,1])\n",
        "print('Eigenvector is ', eigen_v3)\n",
        "\n",
        "# magnitude of vector\n",
        "mag_k3 = np.linalg.norm(eigen_v3)\n",
        "print('magnitude of the vector is:',mag_k3)\n",
        "norm_eigen_v3 = eigen_v3 / mag_k3\n",
        "print('normalized eigenvector is:', norm_eigen_v3)"
      ],
      "execution_count": 22,
      "outputs": [
        {
          "output_type": "stream",
          "text": [
            "Eigenvector is  [ 2 -2  1]\n",
            "magnitude of the vector is: 3.0\n",
            "normalized eigenvector is: [ 0.66666667 -0.66666667  0.33333333]\n"
          ],
          "name": "stdout"
        }
      ]
    },
    {
      "cell_type": "markdown",
      "metadata": {
        "id": "5sRmlay8T1hj"
      },
      "source": [
        "Thus, we can write as in form\n",
        "\n",
        "A = UΣVT\n",
        "\n",
        "Σ is <br>\n",
        "[5 0 0] <br>\n",
        "[0 3 0]<br>\n",
        "\n",
        "VT is <br>\n",
        "[0.70710678, 0.70710678, 0] <br>\n",
        "[0.23570226, -0.23570226,  0.94280904] <br>\n",
        "[0.66666667, -0.66666667,  0.33333333] <br>\n",
        "\n",
        "We can find the left singular vector, U by using σui = Avi"
      ]
    },
    {
      "cell_type": "code",
      "metadata": {
        "id": "qwfs_ZoaVHu7"
      },
      "source": [
        "VT = np.array([[0.70710678, 0.70710678, 0],[0.23570226, -0.23570226, 0.94280904],[0.66666667, -0.66666667, 0.33333333]])\n",
        "singular_vec = np.array([[5,0,0],[0,3,0]])"
      ],
      "execution_count": 23,
      "outputs": []
    },
    {
      "cell_type": "code",
      "metadata": {
        "id": "dsJRmYcIoT3-",
        "outputId": "08eb90bf-08a9-4a01-f15a-594ad7f71112",
        "colab": {
          "base_uri": "https://localhost:8080/"
        }
      },
      "source": [
        "u1 = np.dot(A, norm_eigen_v1) * 1/5\n",
        "u2 = np.dot(A, norm_eigen_v2) * 1/3\n",
        "\n",
        "U = np.vstack((u1,u2))\n",
        "U"
      ],
      "execution_count": 36,
      "outputs": [
        {
          "output_type": "execute_result",
          "data": {
            "text/plain": [
              "array([[ 0.70710678,  0.70710678],\n",
              "       [ 0.70710678, -0.70710678]])"
            ]
          },
          "metadata": {
            "tags": []
          },
          "execution_count": 36
        }
      ]
    },
    {
      "cell_type": "markdown",
      "metadata": {
        "id": "KWsIq_PS3I-g"
      },
      "source": [
        "# **Checking**\n",
        "Now we have the full expression of SVD, and A = UΣVT\n",
        "\n",
        "To verify, we can compute the right side part and check if it is equal to left part, A."
      ]
    },
    {
      "cell_type": "code",
      "metadata": {
        "id": "hzSZxVBD1a_V",
        "outputId": "36a68cb5-da65-4fe3-e0f5-3691be4d7ce7",
        "colab": {
          "base_uri": "https://localhost:8080/"
        }
      },
      "source": [
        "m  = np.dot(U,singular_vec)\n",
        "np.dot(m, VT)"
      ],
      "execution_count": 38,
      "outputs": [
        {
          "output_type": "execute_result",
          "data": {
            "text/plain": [
              "array([[ 2.99999999,  2.        ,  2.        ],\n",
              "       [ 2.        ,  2.99999999, -2.        ]])"
            ]
          },
          "metadata": {
            "tags": []
          },
          "execution_count": 38
        }
      ]
    },
    {
      "cell_type": "code",
      "metadata": {
        "id": "Uy8ERqDT10DH",
        "outputId": "140aaf21-3433-4df8-eb6c-a7d3f5bb04a5",
        "colab": {
          "base_uri": "https://localhost:8080/"
        }
      },
      "source": [
        "A"
      ],
      "execution_count": 39,
      "outputs": [
        {
          "output_type": "execute_result",
          "data": {
            "text/plain": [
              "array([[ 3,  2,  2],\n",
              "       [ 2,  3, -2]])"
            ]
          },
          "metadata": {
            "tags": []
          },
          "execution_count": 39
        }
      ]
    },
    {
      "cell_type": "markdown",
      "metadata": {
        "id": "lu_IC91M3iAY"
      },
      "source": [
        "**It is correct!**"
      ]
    },
    {
      "cell_type": "markdown",
      "metadata": {
        "id": "OkmjqFeT2EVv"
      },
      "source": [
        "How about using Numpy library tools?"
      ]
    },
    {
      "cell_type": "code",
      "metadata": {
        "id": "4q2cLb9OBMZi",
        "outputId": "77eb22d7-8d55-4bb2-8fe9-4922c6bc3dfc",
        "colab": {
          "base_uri": "https://localhost:8080/"
        }
      },
      "source": [
        "w_ATA, v_ATA = LA.eig(ATA)\n",
        "print('Eigenvalues for ATA is:')\n",
        "print(w_ATA)\n",
        "print('Eigenvector Matrix of ATA is:')\n",
        "print(v_ATA)\n",
        "transposed_v_ATA = v_ATA.transpose()\n",
        "print('Eigenvector Matrix of ATA is:')\n",
        "print(transposed_v_ATA)"
      ],
      "execution_count": null,
      "outputs": [
        {
          "output_type": "stream",
          "text": [
            "Eigenvalues for ATA is:\n",
            "[2.5000000e+01 5.0324328e-15 9.0000000e+00]\n",
            "Eigenvector Matrix of ATA is:\n",
            "[[-7.07106781e-01 -6.66666667e-01  2.35702260e-01]\n",
            " [-7.07106781e-01  6.66666667e-01 -2.35702260e-01]\n",
            " [-4.59701721e-17  3.33333333e-01  9.42809042e-01]]\n",
            "Eigenvector Matrix of ATA is:\n",
            "[[-7.07106781e-01 -7.07106781e-01 -4.59701721e-17]\n",
            " [-6.66666667e-01  6.66666667e-01  3.33333333e-01]\n",
            " [ 2.35702260e-01 -2.35702260e-01  9.42809042e-01]]\n"
          ],
          "name": "stdout"
        }
      ]
    },
    {
      "cell_type": "code",
      "metadata": {
        "id": "fkypeD0FBnVh"
      },
      "source": [
        ""
      ],
      "execution_count": null,
      "outputs": []
    }
  ]
}