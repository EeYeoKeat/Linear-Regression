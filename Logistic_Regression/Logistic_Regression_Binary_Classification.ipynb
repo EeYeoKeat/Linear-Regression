{
  "nbformat": 4,
  "nbformat_minor": 0,
  "metadata": {
    "colab": {
      "name": "Logistic_Regression_Binary_Classification.ipynb",
      "provenance": [],
      "collapsed_sections": []
    },
    "kernelspec": {
      "name": "python3",
      "display_name": "Python 3"
    },
    "accelerator": "GPU"
  },
  "cells": [
    {
      "cell_type": "markdown",
      "metadata": {
        "id": "Q2R33DvgwXQL",
        "colab_type": "text"
      },
      "source": [
        "In this work, we will use logistic regression to to predict if the client will subscribe a bank term deposit. The [dataset](http://archive.ics.uci.edu/ml/datasets/Bank+Marketing#) used is related with direct marketing campaigns of a Portuguese banking institution.  The data set comprised of all examples (41188) and 20 inputs, ordered by date (from May 2008 to November 2010), very close to the data analyzed in [Moro et al., 2014]\n",
        "\n",
        "Source: <br>\n",
        "*S. Moro, P. Cortez and P. Rita. A Data-Driven Approach to Predict the Success of Bank Telemarketing. Decision Support Systems, Elsevier, 62:22-31, June 2014*\n",
        "\n"
      ]
    },
    {
      "cell_type": "code",
      "metadata": {
        "id": "EXEk5TmCsTnx",
        "colab_type": "code",
        "colab": {}
      },
      "source": [
        "import pandas as pd\n",
        "import numpy as np\n",
        "import seaborn as sns\n",
        "import matplotlib.pyplot as plt"
      ],
      "execution_count": 0,
      "outputs": []
    },
    {
      "cell_type": "code",
      "metadata": {
        "id": "AMRjfDrC4yLs",
        "colab_type": "code",
        "outputId": "d716eaca-b874-43ec-e028-e09f9f2e88a5",
        "colab": {
          "base_uri": "https://localhost:8080/",
          "height": 224
        }
      },
      "source": [
        "data = pd.read_csv('bank-marketing-portuguese.csv', sep=';')\n",
        "data.head()"
      ],
      "execution_count": 13,
      "outputs": [
        {
          "output_type": "execute_result",
          "data": {
            "text/html": [
              "<div>\n",
              "<style scoped>\n",
              "    .dataframe tbody tr th:only-of-type {\n",
              "        vertical-align: middle;\n",
              "    }\n",
              "\n",
              "    .dataframe tbody tr th {\n",
              "        vertical-align: top;\n",
              "    }\n",
              "\n",
              "    .dataframe thead th {\n",
              "        text-align: right;\n",
              "    }\n",
              "</style>\n",
              "<table border=\"1\" class=\"dataframe\">\n",
              "  <thead>\n",
              "    <tr style=\"text-align: right;\">\n",
              "      <th></th>\n",
              "      <th>age</th>\n",
              "      <th>job</th>\n",
              "      <th>marital</th>\n",
              "      <th>education</th>\n",
              "      <th>default</th>\n",
              "      <th>housing</th>\n",
              "      <th>loan</th>\n",
              "      <th>contact</th>\n",
              "      <th>month</th>\n",
              "      <th>day_of_week</th>\n",
              "      <th>duration</th>\n",
              "      <th>campaign</th>\n",
              "      <th>pdays</th>\n",
              "      <th>previous</th>\n",
              "      <th>poutcome</th>\n",
              "      <th>emp.var.rate</th>\n",
              "      <th>cons.price.idx</th>\n",
              "      <th>cons.conf.idx</th>\n",
              "      <th>euribor3m</th>\n",
              "      <th>nr.employed</th>\n",
              "      <th>y</th>\n",
              "    </tr>\n",
              "  </thead>\n",
              "  <tbody>\n",
              "    <tr>\n",
              "      <th>0</th>\n",
              "      <td>56</td>\n",
              "      <td>housemaid</td>\n",
              "      <td>married</td>\n",
              "      <td>basic.4y</td>\n",
              "      <td>no</td>\n",
              "      <td>no</td>\n",
              "      <td>no</td>\n",
              "      <td>telephone</td>\n",
              "      <td>may</td>\n",
              "      <td>mon</td>\n",
              "      <td>261</td>\n",
              "      <td>1</td>\n",
              "      <td>999</td>\n",
              "      <td>0</td>\n",
              "      <td>nonexistent</td>\n",
              "      <td>1.1</td>\n",
              "      <td>93.994</td>\n",
              "      <td>-36.4</td>\n",
              "      <td>4.857</td>\n",
              "      <td>5191.0</td>\n",
              "      <td>no</td>\n",
              "    </tr>\n",
              "    <tr>\n",
              "      <th>1</th>\n",
              "      <td>57</td>\n",
              "      <td>services</td>\n",
              "      <td>married</td>\n",
              "      <td>high.school</td>\n",
              "      <td>unknown</td>\n",
              "      <td>no</td>\n",
              "      <td>no</td>\n",
              "      <td>telephone</td>\n",
              "      <td>may</td>\n",
              "      <td>mon</td>\n",
              "      <td>149</td>\n",
              "      <td>1</td>\n",
              "      <td>999</td>\n",
              "      <td>0</td>\n",
              "      <td>nonexistent</td>\n",
              "      <td>1.1</td>\n",
              "      <td>93.994</td>\n",
              "      <td>-36.4</td>\n",
              "      <td>4.857</td>\n",
              "      <td>5191.0</td>\n",
              "      <td>no</td>\n",
              "    </tr>\n",
              "    <tr>\n",
              "      <th>2</th>\n",
              "      <td>37</td>\n",
              "      <td>services</td>\n",
              "      <td>married</td>\n",
              "      <td>high.school</td>\n",
              "      <td>no</td>\n",
              "      <td>yes</td>\n",
              "      <td>no</td>\n",
              "      <td>telephone</td>\n",
              "      <td>may</td>\n",
              "      <td>mon</td>\n",
              "      <td>226</td>\n",
              "      <td>1</td>\n",
              "      <td>999</td>\n",
              "      <td>0</td>\n",
              "      <td>nonexistent</td>\n",
              "      <td>1.1</td>\n",
              "      <td>93.994</td>\n",
              "      <td>-36.4</td>\n",
              "      <td>4.857</td>\n",
              "      <td>5191.0</td>\n",
              "      <td>no</td>\n",
              "    </tr>\n",
              "    <tr>\n",
              "      <th>3</th>\n",
              "      <td>40</td>\n",
              "      <td>admin.</td>\n",
              "      <td>married</td>\n",
              "      <td>basic.6y</td>\n",
              "      <td>no</td>\n",
              "      <td>no</td>\n",
              "      <td>no</td>\n",
              "      <td>telephone</td>\n",
              "      <td>may</td>\n",
              "      <td>mon</td>\n",
              "      <td>151</td>\n",
              "      <td>1</td>\n",
              "      <td>999</td>\n",
              "      <td>0</td>\n",
              "      <td>nonexistent</td>\n",
              "      <td>1.1</td>\n",
              "      <td>93.994</td>\n",
              "      <td>-36.4</td>\n",
              "      <td>4.857</td>\n",
              "      <td>5191.0</td>\n",
              "      <td>no</td>\n",
              "    </tr>\n",
              "    <tr>\n",
              "      <th>4</th>\n",
              "      <td>56</td>\n",
              "      <td>services</td>\n",
              "      <td>married</td>\n",
              "      <td>high.school</td>\n",
              "      <td>no</td>\n",
              "      <td>no</td>\n",
              "      <td>yes</td>\n",
              "      <td>telephone</td>\n",
              "      <td>may</td>\n",
              "      <td>mon</td>\n",
              "      <td>307</td>\n",
              "      <td>1</td>\n",
              "      <td>999</td>\n",
              "      <td>0</td>\n",
              "      <td>nonexistent</td>\n",
              "      <td>1.1</td>\n",
              "      <td>93.994</td>\n",
              "      <td>-36.4</td>\n",
              "      <td>4.857</td>\n",
              "      <td>5191.0</td>\n",
              "      <td>no</td>\n",
              "    </tr>\n",
              "  </tbody>\n",
              "</table>\n",
              "</div>"
            ],
            "text/plain": [
              "   age        job  marital  ... euribor3m nr.employed   y\n",
              "0   56  housemaid  married  ...     4.857      5191.0  no\n",
              "1   57   services  married  ...     4.857      5191.0  no\n",
              "2   37   services  married  ...     4.857      5191.0  no\n",
              "3   40     admin.  married  ...     4.857      5191.0  no\n",
              "4   56   services  married  ...     4.857      5191.0  no\n",
              "\n",
              "[5 rows x 21 columns]"
            ]
          },
          "metadata": {
            "tags": []
          },
          "execution_count": 13
        }
      ]
    },
    {
      "cell_type": "code",
      "metadata": {
        "id": "Ij4fbCKZ9TB7",
        "colab_type": "code",
        "outputId": "9482f516-7071-4ce3-bf0c-d3445a2c9a36",
        "colab": {
          "base_uri": "https://localhost:8080/",
          "height": 255
        }
      },
      "source": [
        "# check data info\n",
        "data.describe"
      ],
      "execution_count": 18,
      "outputs": [
        {
          "output_type": "execute_result",
          "data": {
            "text/plain": [
              "<bound method NDFrame.describe of        age          job  marital  ... euribor3m nr.employed    y\n",
              "0       56    housemaid  married  ...     4.857      5191.0   no\n",
              "1       57     services  married  ...     4.857      5191.0   no\n",
              "2       37     services  married  ...     4.857      5191.0   no\n",
              "3       40       admin.  married  ...     4.857      5191.0   no\n",
              "4       56     services  married  ...     4.857      5191.0   no\n",
              "...    ...          ...      ...  ...       ...         ...  ...\n",
              "41183   73      retired  married  ...     1.028      4963.6  yes\n",
              "41184   46  blue-collar  married  ...     1.028      4963.6   no\n",
              "41185   56      retired  married  ...     1.028      4963.6   no\n",
              "41186   44   technician  married  ...     1.028      4963.6  yes\n",
              "41187   74      retired  married  ...     1.028      4963.6   no\n",
              "\n",
              "[41188 rows x 21 columns]>"
            ]
          },
          "metadata": {
            "tags": []
          },
          "execution_count": 18
        }
      ]
    },
    {
      "cell_type": "code",
      "metadata": {
        "id": "eHTN7AeD923h",
        "colab_type": "code",
        "outputId": "da7d2a05-854a-44fe-a196-aca77bae8a06",
        "colab": {
          "base_uri": "https://localhost:8080/",
          "height": 102
        }
      },
      "source": [
        "data.columns"
      ],
      "execution_count": 19,
      "outputs": [
        {
          "output_type": "execute_result",
          "data": {
            "text/plain": [
              "Index(['age', 'job', 'marital', 'education', 'default', 'housing', 'loan',\n",
              "       'contact', 'month', 'day_of_week', 'duration', 'campaign', 'pdays',\n",
              "       'previous', 'poutcome', 'emp.var.rate', 'cons.price.idx',\n",
              "       'cons.conf.idx', 'euribor3m', 'nr.employed', 'y'],\n",
              "      dtype='object')"
            ]
          },
          "metadata": {
            "tags": []
          },
          "execution_count": 19
        }
      ]
    },
    {
      "cell_type": "code",
      "metadata": {
        "id": "vttDS98596d7",
        "colab_type": "code",
        "outputId": "35609ba3-2569-490f-fd2c-38b2bfde94c7",
        "colab": {
          "base_uri": "https://localhost:8080/",
          "height": 119
        }
      },
      "source": [
        "data['y'].head()"
      ],
      "execution_count": 20,
      "outputs": [
        {
          "output_type": "execute_result",
          "data": {
            "text/plain": [
              "0    no\n",
              "1    no\n",
              "2    no\n",
              "3    no\n",
              "4    no\n",
              "Name: y, dtype: object"
            ]
          },
          "metadata": {
            "tags": []
          },
          "execution_count": 20
        }
      ]
    },
    {
      "cell_type": "markdown",
      "metadata": {
        "id": "1uQEGvWN98_N",
        "colab_type": "text"
      },
      "source": [
        "Since the data set has specific the column ' **y** ' as output dependent variable. Therefore, we will first select two of the features as independent variables to predict will the client subscribed the bank term deposit. We select the frequency of contact to client in campaign as our learning parameter. The column named '**campaign**' which is number of contacts performed during this campaign and for this client. Another attribute information named '**duration**' is last contact duration which is highly affects the output target.\n",
        "\n",
        "Before experiment, we assume the higher the contact frequency in current campaign and the longer duration of last contact, the higher probability that the client will subscribe the bank deposit plan."
      ]
    },
    {
      "cell_type": "code",
      "metadata": {
        "id": "MoWN1p_9-oJA",
        "colab_type": "code",
        "outputId": "076a07e8-eac0-4e2c-8f0f-788e06e7f2c1",
        "colab": {
          "base_uri": "https://localhost:8080/",
          "height": 221
        }
      },
      "source": [
        "freq_call = data['campaign'].sort_values(ascending=False)\n",
        "freq_call"
      ],
      "execution_count": 21,
      "outputs": [
        {
          "output_type": "execute_result",
          "data": {
            "text/plain": [
              "4107     56\n",
              "18728    43\n",
              "13447    43\n",
              "5304     42\n",
              "4168     42\n",
              "         ..\n",
              "30144     1\n",
              "30143     1\n",
              "30142     1\n",
              "30141     1\n",
              "0         1\n",
              "Name: campaign, Length: 41188, dtype: int64"
            ]
          },
          "metadata": {
            "tags": []
          },
          "execution_count": 21
        }
      ]
    },
    {
      "cell_type": "code",
      "metadata": {
        "id": "UC9l9KGvEDJ2",
        "colab_type": "code",
        "outputId": "01bdbfa2-1bb2-425a-c5ab-400901f98955",
        "colab": {
          "base_uri": "https://localhost:8080/",
          "height": 221
        }
      },
      "source": [
        "call_duration = data['duration'].sort_values(ascending=False)\n",
        "call_duration"
      ],
      "execution_count": 22,
      "outputs": [
        {
          "output_type": "execute_result",
          "data": {
            "text/plain": [
              "24091    4918\n",
              "22192    4199\n",
              "40537    3785\n",
              "13820    3643\n",
              "7727     3631\n",
              "         ... \n",
              "28239       1\n",
              "6251        0\n",
              "28063       0\n",
              "23031       0\n",
              "33015       0\n",
              "Name: duration, Length: 41188, dtype: int64"
            ]
          },
          "metadata": {
            "tags": []
          },
          "execution_count": 22
        }
      ]
    },
    {
      "cell_type": "code",
      "metadata": {
        "id": "e9n5nOWMpJlQ",
        "colab_type": "code",
        "outputId": "c0d4b270-1133-4382-a44f-5eeba6ac2327",
        "colab": {
          "base_uri": "https://localhost:8080/",
          "height": 419
        }
      },
      "source": [
        "input_attribute = ['campaign', 'duration', 'y']\n",
        "combine_X = data[input_attribute]\n",
        "combine_X"
      ],
      "execution_count": 23,
      "outputs": [
        {
          "output_type": "execute_result",
          "data": {
            "text/html": [
              "<div>\n",
              "<style scoped>\n",
              "    .dataframe tbody tr th:only-of-type {\n",
              "        vertical-align: middle;\n",
              "    }\n",
              "\n",
              "    .dataframe tbody tr th {\n",
              "        vertical-align: top;\n",
              "    }\n",
              "\n",
              "    .dataframe thead th {\n",
              "        text-align: right;\n",
              "    }\n",
              "</style>\n",
              "<table border=\"1\" class=\"dataframe\">\n",
              "  <thead>\n",
              "    <tr style=\"text-align: right;\">\n",
              "      <th></th>\n",
              "      <th>campaign</th>\n",
              "      <th>duration</th>\n",
              "      <th>y</th>\n",
              "    </tr>\n",
              "  </thead>\n",
              "  <tbody>\n",
              "    <tr>\n",
              "      <th>0</th>\n",
              "      <td>1</td>\n",
              "      <td>261</td>\n",
              "      <td>no</td>\n",
              "    </tr>\n",
              "    <tr>\n",
              "      <th>1</th>\n",
              "      <td>1</td>\n",
              "      <td>149</td>\n",
              "      <td>no</td>\n",
              "    </tr>\n",
              "    <tr>\n",
              "      <th>2</th>\n",
              "      <td>1</td>\n",
              "      <td>226</td>\n",
              "      <td>no</td>\n",
              "    </tr>\n",
              "    <tr>\n",
              "      <th>3</th>\n",
              "      <td>1</td>\n",
              "      <td>151</td>\n",
              "      <td>no</td>\n",
              "    </tr>\n",
              "    <tr>\n",
              "      <th>4</th>\n",
              "      <td>1</td>\n",
              "      <td>307</td>\n",
              "      <td>no</td>\n",
              "    </tr>\n",
              "    <tr>\n",
              "      <th>...</th>\n",
              "      <td>...</td>\n",
              "      <td>...</td>\n",
              "      <td>...</td>\n",
              "    </tr>\n",
              "    <tr>\n",
              "      <th>41183</th>\n",
              "      <td>1</td>\n",
              "      <td>334</td>\n",
              "      <td>yes</td>\n",
              "    </tr>\n",
              "    <tr>\n",
              "      <th>41184</th>\n",
              "      <td>1</td>\n",
              "      <td>383</td>\n",
              "      <td>no</td>\n",
              "    </tr>\n",
              "    <tr>\n",
              "      <th>41185</th>\n",
              "      <td>2</td>\n",
              "      <td>189</td>\n",
              "      <td>no</td>\n",
              "    </tr>\n",
              "    <tr>\n",
              "      <th>41186</th>\n",
              "      <td>1</td>\n",
              "      <td>442</td>\n",
              "      <td>yes</td>\n",
              "    </tr>\n",
              "    <tr>\n",
              "      <th>41187</th>\n",
              "      <td>3</td>\n",
              "      <td>239</td>\n",
              "      <td>no</td>\n",
              "    </tr>\n",
              "  </tbody>\n",
              "</table>\n",
              "<p>41188 rows × 3 columns</p>\n",
              "</div>"
            ],
            "text/plain": [
              "       campaign  duration    y\n",
              "0             1       261   no\n",
              "1             1       149   no\n",
              "2             1       226   no\n",
              "3             1       151   no\n",
              "4             1       307   no\n",
              "...         ...       ...  ...\n",
              "41183         1       334  yes\n",
              "41184         1       383   no\n",
              "41185         2       189   no\n",
              "41186         1       442  yes\n",
              "41187         3       239   no\n",
              "\n",
              "[41188 rows x 3 columns]"
            ]
          },
          "metadata": {
            "tags": []
          },
          "execution_count": 23
        }
      ]
    },
    {
      "cell_type": "code",
      "metadata": {
        "id": "Qj901NdyAodw",
        "colab_type": "code",
        "outputId": "684d82c1-5c19-44d0-b224-0c62356a4106",
        "colab": {
          "base_uri": "https://localhost:8080/",
          "height": 369
        }
      },
      "source": [
        "sns.relplot(x=\"duration\", y=\"campaign\", hue=\"y\", data=combine_X);"
      ],
      "execution_count": 24,
      "outputs": [
        {
          "output_type": "display_data",
          "data": {
            "image/png": "[encoded data removed]",
            "text/plain": [
              "<Figure size 413.25x360 with 1 Axes>"
            ]
          },
          "metadata": {
            "tags": []
          }
        }
      ]
    },
    {
      "cell_type": "markdown",
      "metadata": {
        "id": "WLfcXfkwGlW1",
        "colab_type": "text"
      },
      "source": [
        "There are interesting finding. A contact to a client is performed 56 times in the campagin but the client no subscibe the plan, while the longest duration in last contact is 4918 seconds, but still no subscribe to the plan. Hence, our previous assumption is wrong!"
      ]
    },
    {
      "cell_type": "markdown",
      "metadata": {
        "id": "YFJwONHSIk7w",
        "colab_type": "text"
      },
      "source": [
        "# **Logistic Regression Model**\n",
        "\n",
        "Given a set of inputs, we want to assign them to one of two possible categories (0 or 1) for no or yes respectivaly.\n",
        "\n",
        "The logistic is using sigmoid function which can be write as\n",
        "```\n",
        "g(z) = 1 / (1 + np.exp(-z))\n",
        "```\n",
        "\n",
        "![Sigmoid Function](data:image/png;base64,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)\n",
        "\n",
        "Cost function as follow:\n",
        "![Cost function of logistic regression](https://miro.medium.com/max/2908/1*dEZxrHeNGlhfNt-JyRLpig.png)"
      ]
    },
    {
      "cell_type": "code",
      "metadata": {
        "id": "irA4GooPkDzM",
        "colab_type": "code",
        "colab": {}
      },
      "source": [
        "class LogisticRegressionModel:\n",
        "    def __init__(self, iteration=1000, alpha=0.01, fit_theta_0=True, verbose=False):\n",
        "        self.learning_rate = alpha\n",
        "        self.iteration = iteration\n",
        "        self.fit_theta_0 = fit_theta_0\n",
        "        self.verbose = verbose\n",
        "    \n",
        "    def add_theta_0(self, X):\n",
        "        theta_0 = np.ones((X.shape[0], 1))\n",
        "        return np.concatenate((theta_0, X), axis=1)\n",
        "    \n",
        "    def sigmoid_function(self, z):\n",
        "        return 1 / (1 + np.exp(-z))\n",
        "\n",
        "    def cost_function(self, h, y):\n",
        "        return (-y * np.log(h) - (1 - y) * np.log(1 - h)).mean()\n",
        "    \n",
        "    def fit(self, X, y):\n",
        "        if self.fit_theta_0:\n",
        "            X = self.add_theta_0(X)\n",
        "        \n",
        "        self.theta_1 = np.zeros(X.shape[1])\n",
        "        \n",
        "        for i in range(self.iteration):\n",
        "            z = np.dot(X, self.theta_1)\n",
        "            h = self.sigmoid_function(z)\n",
        "            slope = np.dot(X.T, (h - y)) / y.size\n",
        "            self.theta_1 -= self.learning_rate * slope\n",
        "            \n",
        "            z = np.dot(X, self.theta_1)\n",
        "            h = self.sigmoid_function(z)\n",
        "            loss = self.cost_function(h, y)\n",
        "                \n",
        "            if(self.verbose ==True and i % 1000 == 0):\n",
        "                print(f'loss: {loss} \\t')\n",
        "    \n",
        "    def predict_prob(self, X):\n",
        "        if self.fit_theta_0:\n",
        "            X = self.add_theta_0(X)\n",
        "    \n",
        "        return self.sigmoid_function(np.dot(X, self.theta_1))\n",
        "    \n",
        "    def predict(self, X):\n",
        "        return self.predict_prob(X)\n",
        "\n",
        "    def check_accuracy(self, X, preds, y):\n",
        "      correct_pred = np.count_nonzero(preds == y)\n",
        "      accuracy = correct_pred/X.shape[0]\n",
        "      return accuracy"
      ],
      "execution_count": 0,
      "outputs": []
    },
    {
      "cell_type": "code",
      "metadata": {
        "id": "qNfirGbt6amI",
        "colab_type": "code",
        "outputId": "76ae2945-83d2-42d3-d2cf-5762e2627323",
        "colab": {
          "base_uri": "https://localhost:8080/",
          "height": 34
        }
      },
      "source": [
        "X = combine_X[['campaign','duration']]\n",
        "X = np.array(X)\n",
        "X.shape"
      ],
      "execution_count": 149,
      "outputs": [
        {
          "output_type": "execute_result",
          "data": {
            "text/plain": [
              "(41188, 2)"
            ]
          },
          "metadata": {
            "tags": []
          },
          "execution_count": 149
        }
      ]
    },
    {
      "cell_type": "markdown",
      "metadata": {
        "id": "rVJchhzbUogH",
        "colab_type": "text"
      },
      "source": [
        "Since y column given is in string type which is either yes or no, so we have to convert it into binary which is 1 or 0."
      ]
    },
    {
      "cell_type": "code",
      "metadata": {
        "id": "KUb4IINc6wGe",
        "colab_type": "code",
        "outputId": "df7b8e93-4494-440b-fb85-62212dd5a21d",
        "colab": {
          "base_uri": "https://localhost:8080/",
          "height": 34
        }
      },
      "source": [
        "y = combine_X[['y']].replace(to_replace=['no', 'yes'], value=[0, 1])\n",
        "y = np.array(y).reshape(-1,)\n",
        "y.shape"
      ],
      "execution_count": 114,
      "outputs": [
        {
          "output_type": "execute_result",
          "data": {
            "text/plain": [
              "(41188,)"
            ]
          },
          "metadata": {
            "tags": []
          },
          "execution_count": 114
        }
      ]
    },
    {
      "cell_type": "code",
      "metadata": {
        "id": "9oWGNi7YGczM",
        "colab_type": "code",
        "colab": {}
      },
      "source": [
        "model = LogisticRegressionModel(1000, 0.01)"
      ],
      "execution_count": 0,
      "outputs": []
    },
    {
      "cell_type": "code",
      "metadata": {
        "id": "bg9iQ47r69JD",
        "colab_type": "code",
        "outputId": "499dccfd-3762-4541-c5fa-5d80b5913bda",
        "colab": {
          "base_uri": "https://localhost:8080/",
          "height": 119
        }
      },
      "source": [
        "model.fit(X, y)"
      ],
      "execution_count": 137,
      "outputs": [
        {
          "output_type": "stream",
          "text": [
            "/usr/local/lib/python3.6/dist-packages/ipykernel_launcher.py:13: RuntimeWarning: overflow encountered in exp\n",
            "  del sys.path[0]\n",
            "/usr/local/lib/python3.6/dist-packages/ipykernel_launcher.py:16: RuntimeWarning: divide by zero encountered in log\n",
            "  app.launch_new_instance()\n",
            "/usr/local/lib/python3.6/dist-packages/ipykernel_launcher.py:16: RuntimeWarning: invalid value encountered in multiply\n",
            "  app.launch_new_instance()\n"
          ],
          "name": "stderr"
        }
      ]
    },
    {
      "cell_type": "code",
      "metadata": {
        "id": "SvygMQGukyUX",
        "colab_type": "code",
        "colab": {
          "base_uri": "https://localhost:8080/",
          "height": 34
        },
        "outputId": "5b4fcc49-cd0d-4354-f9af-dd434b9b3399"
      },
      "source": [
        "model.theta_1"
      ],
      "execution_count": 138,
      "outputs": [
        {
          "output_type": "execute_result",
          "data": {
            "text/plain": [
              "array([-1.08183867, -2.42556222,  0.10446343])"
            ]
          },
          "metadata": {
            "tags": []
          },
          "execution_count": 138
        }
      ]
    },
    {
      "cell_type": "code",
      "metadata": {
        "id": "zFj1n7YH-1hY",
        "colab_type": "code",
        "outputId": "60bf5b7b-f97c-4d39-e839-fec52d4d19d6",
        "colab": {
          "base_uri": "https://localhost:8080/",
          "height": 374
        }
      },
      "source": [
        "plt.figure(figsize=(10, 6))\n",
        "plt.scatter(X[y == 0][:, 0], X[y == 0][:, 1], color='b', label='0')\n",
        "plt.scatter(X[y == 1][:, 0], X[y == 1][:, 1], color='r', label='1')\n",
        "plt.legend()\n",
        "x1_min, x1_max = X[:,0].min(), X[:,0].max(),\n",
        "x2_min, x2_max = X[:,1].min(), X[:,1].max(),\n",
        "xx1, xx2 = np.meshgrid(np.linspace(x1_min, x1_max), np.linspace(x2_min, x2_max))\n",
        "grid = np.c_[xx1.ravel(), xx2.ravel()]\n",
        "\n",
        "probs = model.predict_prob(grid).reshape(xx1.shape)\n",
        "plt.contour(xx1, xx2, probs, [0.5], linewidths=1, colors='black');"
      ],
      "execution_count": 139,
      "outputs": [
        {
          "output_type": "display_data",
          "data": {
            "image/png": "[encoded data removed]",
            "text/plain": [
              "<Figure size 720x432 with 1 Axes>"
            ]
          },
          "metadata": {
            "tags": []
          }
        }
      ]
    },
    {
      "cell_type": "code",
      "metadata": {
        "id": "lHLPtBRR-3sz",
        "colab_type": "code",
        "outputId": "7c52692a-8227-4b21-bf76-19a22866e420",
        "colab": {
          "base_uri": "https://localhost:8080/",
          "height": 51
        }
      },
      "source": [
        "preds = model.predict(X)\n",
        "preds"
      ],
      "execution_count": 140,
      "outputs": [
        {
          "output_type": "execute_result",
          "data": {
            "text/plain": [
              "array([1.        , 0.9999942 , 1.        , ..., 0.999999  , 1.        ,\n",
              "       0.99999994])"
            ]
          },
          "metadata": {
            "tags": []
          },
          "execution_count": 140
        }
      ]
    },
    {
      "cell_type": "code",
      "metadata": {
        "id": "-_lkosoX_kGV",
        "colab_type": "code",
        "outputId": "fa497f43-c017-4d36-d9c1-e68abc31ec25",
        "colab": {
          "base_uri": "https://localhost:8080/",
          "height": 34
        }
      },
      "source": [
        "model.check_accuracy(X, preds, y)"
      ],
      "execution_count": 155,
      "outputs": [
        {
          "output_type": "execute_result",
          "data": {
            "text/plain": [
              "0.0609400796348451"
            ]
          },
          "metadata": {
            "tags": []
          },
          "execution_count": 155
        }
      ]
    },
    {
      "cell_type": "markdown",
      "metadata": {
        "id": "SBN0TtK_zkii",
        "colab_type": "text"
      },
      "source": [
        "The accuracy seem like very low, therefore, we can try to increase the accuracy by adjust the iteration number and the learning rate."
      ]
    },
    {
      "cell_type": "code",
      "metadata": {
        "id": "IeYgsq1LyM1K",
        "colab_type": "code",
        "colab": {
          "base_uri": "https://localhost:8080/",
          "height": 119
        },
        "outputId": "239e59cd-fb85-4d90-df30-592dcece482f"
      },
      "source": [
        "# adjust the iteration number\n",
        "num_iteration = [100, 1000, 2000, 5000, 10000, 40000]\n",
        "accuracy = []\n",
        "\n",
        "for i in num_iteration:\n",
        "  model = LogisticRegressionModel(i, 0.01)\n",
        "  model.fit(X,y)\n",
        "  preds = model.predict(X)\n",
        "  accuracy.append(model.check_accuracy(X, preds, y))"
      ],
      "execution_count": 167,
      "outputs": [
        {
          "output_type": "stream",
          "text": [
            "/usr/local/lib/python3.6/dist-packages/ipykernel_launcher.py:13: RuntimeWarning: overflow encountered in exp\n",
            "  del sys.path[0]\n",
            "/usr/local/lib/python3.6/dist-packages/ipykernel_launcher.py:16: RuntimeWarning: divide by zero encountered in log\n",
            "  app.launch_new_instance()\n",
            "/usr/local/lib/python3.6/dist-packages/ipykernel_launcher.py:16: RuntimeWarning: invalid value encountered in multiply\n",
            "  app.launch_new_instance()\n"
          ],
          "name": "stderr"
        }
      ]
    },
    {
      "cell_type": "code",
      "metadata": {
        "id": "StvBW8hw4T-j",
        "colab_type": "code",
        "colab": {
          "base_uri": "https://localhost:8080/",
          "height": 279
        },
        "outputId": "c1213f3a-ab87-4d87-ef16-eb6e6b079e6e"
      },
      "source": [
        "plt.plot(num_iteration, accuracy)\n",
        "plt.xlabel('Iteration numbers')\n",
        "plt.ylabel('Accuracy')\n",
        "plt.show()"
      ],
      "execution_count": 168,
      "outputs": [
        {
          "output_type": "display_data",
          "data": {
            "image/png": "[encoded data removed]",
            "text/plain": [
              "<Figure size 432x288 with 1 Axes>"
            ]
          },
          "metadata": {
            "tags": []
          }
        }
      ]
    },
    {
      "cell_type": "markdown",
      "metadata": {
        "id": "CGSijXkR-z7k",
        "colab_type": "text"
      },
      "source": [
        "From the graph, we can see that 5000 iteration has highest accuracy among the set of iteration number."
      ]
    },
    {
      "cell_type": "code",
      "metadata": {
        "id": "F-5i_I9U--lo",
        "colab_type": "code",
        "colab": {
          "base_uri": "https://localhost:8080/",
          "height": 119
        },
        "outputId": "30eb1b85-aeb0-4b4c-967b-e531989a256e"
      },
      "source": [
        "# adjust the learning rate\n",
        "alpha = [0.001, 0.01, 0.1, 0.5, 0.9]\n",
        "accuracy = []\n",
        "\n",
        "for i in alpha:\n",
        "  model = LogisticRegressionModel(5000, i)\n",
        "  model.fit(X,y)\n",
        "  preds = model.predict(X)\n",
        "  accuracy.append(model.check_accuracy(X, preds, y))"
      ],
      "execution_count": 171,
      "outputs": [
        {
          "output_type": "stream",
          "text": [
            "/usr/local/lib/python3.6/dist-packages/ipykernel_launcher.py:16: RuntimeWarning: divide by zero encountered in log\n",
            "  app.launch_new_instance()\n",
            "/usr/local/lib/python3.6/dist-packages/ipykernel_launcher.py:16: RuntimeWarning: invalid value encountered in multiply\n",
            "  app.launch_new_instance()\n",
            "/usr/local/lib/python3.6/dist-packages/ipykernel_launcher.py:13: RuntimeWarning: overflow encountered in exp\n",
            "  del sys.path[0]\n"
          ],
          "name": "stderr"
        }
      ]
    },
    {
      "cell_type": "code",
      "metadata": {
        "id": "rqBfJ_4VAcK3",
        "colab_type": "code",
        "colab": {
          "base_uri": "https://localhost:8080/",
          "height": 279
        },
        "outputId": "6e61a45c-3fab-4934-a709-b9088ff1d778"
      },
      "source": [
        "plt.plot(alpha, accuracy)\n",
        "plt.xlabel('Learning rate')\n",
        "plt.ylabel('Accuracy')\n",
        "plt.show()"
      ],
      "execution_count": 173,
      "outputs": [
        {
          "output_type": "display_data",
          "data": {
            "image/png": "[encoded data removed]",
            "text/plain": [
              "<Figure size 432x288 with 1 Axes>"
            ]
          },
          "metadata": {
            "tags": []
          }
        }
      ]
    },
    {
      "cell_type": "markdown",
      "metadata": {
        "id": "CpXpBO1FDBBL",
        "colab_type": "text"
      },
      "source": [
        "The optimum learning rate is 0.5 since it has the highest accuracy in the learning rate set."
      ]
    },
    {
      "cell_type": "code",
      "metadata": {
        "id": "2DJCutsPDWDJ",
        "colab_type": "code",
        "colab": {
          "base_uri": "https://localhost:8080/",
          "height": 119
        },
        "outputId": "3f307c19-9427-4157-9d10-d6cd07bdddfb"
      },
      "source": [
        "model = LogisticRegressionModel(5000, 0.5)\n",
        "model.fit(X,y)\n",
        "preds = model.predict(X)"
      ],
      "execution_count": 176,
      "outputs": [
        {
          "output_type": "stream",
          "text": [
            "/usr/local/lib/python3.6/dist-packages/ipykernel_launcher.py:13: RuntimeWarning: overflow encountered in exp\n",
            "  del sys.path[0]\n",
            "/usr/local/lib/python3.6/dist-packages/ipykernel_launcher.py:16: RuntimeWarning: divide by zero encountered in log\n",
            "  app.launch_new_instance()\n",
            "/usr/local/lib/python3.6/dist-packages/ipykernel_launcher.py:16: RuntimeWarning: invalid value encountered in multiply\n",
            "  app.launch_new_instance()\n"
          ],
          "name": "stderr"
        }
      ]
    },
    {
      "cell_type": "code",
      "metadata": {
        "id": "Wi2M84aREvGa",
        "colab_type": "code",
        "colab": {
          "base_uri": "https://localhost:8080/",
          "height": 34
        },
        "outputId": "6b74cbd0-5f46-4286-a69b-9148ad4992cb"
      },
      "source": [
        "model.check_accuracy(X, preds, y)"
      ],
      "execution_count": 179,
      "outputs": [
        {
          "output_type": "execute_result",
          "data": {
            "text/plain": [
              "0.8873458288821987"
            ]
          },
          "metadata": {
            "tags": []
          },
          "execution_count": 179
        }
      ]
    },
    {
      "cell_type": "markdown",
      "metadata": {
        "id": "X9gm-dccr33E",
        "colab_type": "text"
      },
      "source": [
        "# **Improvment Steps**\n",
        "\n",
        "There are few improvise action can be considered in future to improve the model:\n",
        "\n",
        "1.   Select the attribute that can provide more information\n",
        "2.   Try add additional features for model learning\n",
        "3.   Trying polynomial features\n",
        "\n"
      ]
    }
  ]
}